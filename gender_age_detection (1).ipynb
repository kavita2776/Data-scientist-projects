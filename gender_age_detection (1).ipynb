{
  "nbformat": 4,
  "nbformat_minor": 0,
  "metadata": {
    "colab": {
      "provenance": [],
      "collapsed_sections": []
    },
    "kernelspec": {
      "name": "python3",
      "display_name": "Python 3"
    },
    "language_info": {
      "name": "python"
    }
  },
  "cells": [
    {
      "cell_type": "code",
      "execution_count": 1,
      "metadata": {
        "id": "OUCV3HKBAyt1"
      },
      "outputs": [],
      "source": [
        "import cv2\n",
        "import math\n",
        "import argparse\n",
        "from google.colab.patches import cv2_imshow"
      ]
    },
    {
      "cell_type": "code",
      "source": [
        "def highlightFace(net, frame, conf_threshold=0.7):\n",
        "  frameOpencvDnn=frame.copy()\n",
        "  frameHeight=frameOpencvDnn.shape[0]\n",
        "  frameWidth=frameOpencvDnn.shape[1]\n",
        "  blob=cv2.dnn.blobFromImage(frameOpencvDnn, 1.0, (300, 300), [104, 117, 123], True, False)\n",
        "\n",
        "  net.setInput(blob)\n",
        "  detections=net.forward()\n",
        "  faceBoxes=[]\n",
        "  for i in range(detections.shape[2]):\n",
        "    confidence=detections[0,0,i,2]\n",
        "    if confidence>conf_threshold:\n",
        "      x1=int(detections[0,0,i,3]*frameWidth)\n",
        "      y1=int(detections[0,0,i,4]*frameHeight)\n",
        "      x2=int(detections[0,0,i,5]*frameWidth)\n",
        "      y2=int(detections[0,0,i,6]*frameHeight)\n",
        "      faceBoxes.append([x1,y1,x2,y2])\n",
        "      cv2.rectangle(frameOpencvDnn, (x1,y1), (x2,y2), (0,255,0), int(round(frameHeight/150)), 8)\n",
        "  return frameOpencvDnn, faceBoxes"
      ],
      "metadata": {
        "id": "KlkaTBBdB8aT"
      },
      "execution_count": 2,
      "outputs": []
    },
    {
      "cell_type": "code",
      "source": [
        "faceProto=\"\"\n",
        "faceModel = \"\"\n",
        "ageProto = \"\"\n",
        "ageModel=\"\"\n",
        "genderProto=\"\"\n",
        "genderModel=\"\"\n",
        "\n",
        "MODEL_MEAN_VALUES=(78.4263377603, 87.7689143744, 114.895847746)\n",
        "ageList=['(0-2)' , '(4-6)' , '(8-12)' , '(15-20)','(25-32)','(38-43)','(48-53)', '(60-100)']\n",
        "genderList=['Male', ' Feamle']"
      ],
      "metadata": {
        "id": "Nf1kxuzMB8cs"
      },
      "execution_count": null,
      "outputs": []
    },
    {
      "cell_type": "code",
      "source": [],
      "metadata": {
        "id": "D7VckJOdB8fb"
      },
      "execution_count": null,
      "outputs": []
    },
    {
      "cell_type": "code",
      "source": [
        "faceNet=cv2.dnn.readNet(faceModel, faceProto)\n",
        "ageNet = cv2.dnn.readNet(ageModel,agePoto)\n",
        "genderNet = cv2.dnn.readNet(genderModel,genderProto)\n",
        "\n",
        "vedio=cv2.VideoCapture(\"minion.jpg\")\n",
        "padding=20"
      ],
      "metadata": {
        "id": "9Z5eAHF6B8iZ"
      },
      "execution_count": null,
      "outputs": []
    },
    {
      "cell_type": "code",
      "source": [
        "while cv2.waitkey(1)<0:\n",
        "  hasFrame, frame=vedio.read()\n",
        "  if not hasFrame:\n",
        "    cv2.waitKey()\n",
        "    break\n",
        "\n",
        "  resultImg.faceBoxes=heightlightFace(faceNet,frame)\n",
        "  if not faceBoxes:\n",
        "    print(\"No face detected\")\n",
        "\n",
        "  for faceBox in faceBoxes:\n",
        "    face=frame[max(0,faceBox[1]-padding):\n",
        "               min(faceBox[3]+padding,frame.shape[0]-1),max(0,faceBox[0]-padding)\n",
        "               :min(faceBox[2]+padding, frame.shape[1]-1)]\n",
        "\n",
        "          blob=cv2.dnn.blobFromImage(face, 1.0, (227,227), MODEL_MEAN_VALUES, swapRB=False)\n",
        "          genderNet.setInput(blob)\n",
        "          genderPreds=genderNet.forward()\n",
        "          gender=genderList[genderPreds[0].argmax()]\n",
        "          print(f'Gender: {gender}')\n",
        "\n",
        "        \n",
        "          ageNet.setInput(blob)\n",
        "          agePreds=ageNet.forward()\n",
        "          age=ageList[agePreds[0].argmax()]\n",
        "          print(f'Age: {age[1:-1]} years')\n",
        "\n",
        "          cv2.putText(resultIMG, f'{gender}, {age}', (faceBox[0], faceBox[1]-10), cv2.FONT_HERSHEY_SIMPLEX, 0.8, (0,255,255), 2, cv2.LINE_AA)\n",
        "          cv2_imshow(resultIMG)\n",
        "\n",
        "  "
      ],
      "metadata": {
        "id": "b1uZVUKdB8lN"
      },
      "execution_count": null,
      "outputs": []
    },
    {
      "cell_type": "code",
      "source": [],
      "metadata": {
        "id": "9UeJQDpXB8nk"
      },
      "execution_count": null,
      "outputs": []
    },
    {
      "cell_type": "code",
      "source": [],
      "metadata": {
        "id": "qNPpr4V8B8qF"
      },
      "execution_count": null,
      "outputs": []
    },
    {
      "cell_type": "code",
      "source": [],
      "metadata": {
        "id": "fZDarTndB8tA"
      },
      "execution_count": null,
      "outputs": []
    },
    {
      "cell_type": "code",
      "source": [],
      "metadata": {
        "id": "aFG7AsfQB8vk"
      },
      "execution_count": null,
      "outputs": []
    },
    {
      "cell_type": "code",
      "source": [],
      "metadata": {
        "id": "S7JQYFmYB8yf"
      },
      "execution_count": null,
      "outputs": []
    },
    {
      "cell_type": "code",
      "source": [],
      "metadata": {
        "id": "0Kd7_SMWB82A"
      },
      "execution_count": null,
      "outputs": []
    }
  ]
}